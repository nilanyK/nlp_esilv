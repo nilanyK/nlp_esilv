{
  "cells": [
    {
      "attachments": {},
      "cell_type": "markdown",
      "metadata": {
        "id": "Qhwcl3w3mJHG"
      },
      "source": [
        "KARUNATHASAN Nilany <br>\n",
        "DIA2"
      ]
    },
    {
      "attachments": {},
      "cell_type": "markdown",
      "metadata": {
        "id": "3HuqZUAoLxpg"
      },
      "source": [
        "# **<center> WP1 - Machine Learning for NLP**\n"
      ]
    },
    {
      "attachments": {},
      "cell_type": "markdown",
      "metadata": {
        "id": "wvXHmGg4MmKx"
      },
      "source": [
        "## Tokenisation"
      ]
    },
    {
      "attachments": {},
      "cell_type": "markdown",
      "metadata": {
        "id": "AIOtAVxDMpWH"
      },
      "source": [
        "### Textes en phrases"
      ]
    },
    {
      "cell_type": "code",
      "execution_count": null,
      "metadata": {
        "colab": {
          "base_uri": "https://localhost:8080/"
        },
        "id": "TYduSRJBMWVN",
        "outputId": "244a7614-0208-4fdb-b833-d0393d15d9f5"
      },
      "outputs": [
        {
          "name": "stderr",
          "output_type": "stream",
          "text": [
            "[nltk_data] Downloading package punkt to /root/nltk_data...\n",
            "[nltk_data]   Unzipping tokenizers/punkt.zip.\n"
          ]
        },
        {
          "data": {
            "text/plain": [
              "True"
            ]
          },
          "execution_count": 2,
          "metadata": {},
          "output_type": "execute_result"
        }
      ],
      "source": [
        "import nltk\n",
        "nltk.download('punkt')\n",
        "#test\n",
        "#test2"
      ]
    },
    {
      "cell_type": "code",
      "execution_count": null,
      "metadata": {
        "colab": {
          "base_uri": "https://localhost:8080/",
          "height": 36
        },
        "id": "1AL7h8NUMe9M",
        "outputId": "6d7365c8-83a5-4d70-c316-d6e91d83ed9b"
      },
      "outputs": [
        {
          "data": {
            "application/vnd.google.colaboratory.intrinsic+json": {
              "type": "string"
            },
            "text/plain": [
              "'3.8.1'"
            ]
          },
          "execution_count": 3,
          "metadata": {},
          "output_type": "execute_result"
        }
      ],
      "source": [
        "nltk.__version__"
      ]
    },
    {
      "cell_type": "code",
      "execution_count": null,
      "metadata": {
        "colab": {
          "base_uri": "https://localhost:8080/"
        },
        "id": "Ye_JaZOVMwy5",
        "outputId": "6d2413e1-8d3f-4191-91e7-de9c103dfa2c"
      },
      "outputs": [
        {
          "data": {
            "text/plain": [
              "[' Hello everyone.',\n",
              " 'Hope all are fine and doing well.',\n",
              " 'Hope you find the book interesting']"
            ]
          },
          "execution_count": 4,
          "metadata": {},
          "output_type": "execute_result"
        }
      ],
      "source": [
        "tokenizer=nltk.data.load('tokenizers/punkt/english.pickle')\n",
        "text=\" Hello everyone. Hope all are fine and doing well. Hope you find the book interesting\"\n",
        "tokenizer.tokenize(text)"
      ]
    },
    {
      "attachments": {},
      "cell_type": "markdown",
      "metadata": {
        "id": "nD7OiHvdSzCf"
      },
      "source": [
        "Go on Google News and select 3 press articles (2 about the same topic and 1 really different).\n",
        "Copy/paste the text content of each article in 3 separate files.\n",
        "The goal is to find the two nearest sentences (in a meaning/semantic way) in the articles on the\n",
        "same topic. The method used should also show a difference between the article on a different topic.\n",
        "The possible tools used to achieve this result are been presented the last session (tokenization,\n",
        "normalization, regular expressions, string distances).\n",
        "Verify if your 3 articles respect the Zipf’s law.\n",
        "Here under, you will find some examples of this tools with NLTK"
      ]
    },
    {
      "attachments": {},
      "cell_type": "markdown",
      "metadata": {
        "id": "WY-KijkPTKzk"
      },
      "source": [
        "#### Articles"
      ]
    },
    {
      "attachments": {},
      "cell_type": "markdown",
      "metadata": {
        "id": "XMfQAsMRTPQ_"
      },
      "source": [
        "\n",
        "\n",
        "1.   https://www.francetvinfo.fr/monde/conflit-dans-le-haut-karabakh/direct-haut-karabakh-le-secretaire-general-de-l-onu-appelle-a-un-arret-immediat-des-combats_6072765.html\n",
        "2.   https://www.lemonde.fr/international/article/2023/09/20/haut-karabakh-l-azerbaidjan-et-les-separatistes-armeniens-annoncent-un-cessez-le-feu-et-l-ouverture-de-negociations_6190143_3210.html\n",
        "3.  https://www.lemonde.fr/sport/article/2023/09/20/crise-a-l-olympique-de-marseille-le-club-annonce-le-depart-de-marcelino-son-entraineur-apres-seulement-sept-matchs_6190185_3242.html\n",
        "\n"
      ]
    },
    {
      "attachments": {},
      "cell_type": "markdown",
      "metadata": {
        "id": "IXjnwsXmVks4"
      },
      "source": [
        "##### Tokenization and Preprocessing"
      ]
    },
    {
      "cell_type": "code",
      "execution_count": null,
      "metadata": {
        "id": "nTUERw3_V9My"
      },
      "outputs": [],
      "source": [
        "import nltk\n",
        "from nltk.tokenize import word_tokenize, sent_tokenize\n",
        "from nltk.corpus import stopwords\n",
        "from nltk.stem import PorterStemmer\n",
        "import string\n",
        "\n",
        "# Function to preprocess text\n",
        "def preprocess_text(text):\n",
        "    # Tokenize the text into sentences\n",
        "    sentences = sent_tokenize(text)\n",
        "\n",
        "    # Tokenize the text into words, remove punctuation, and convert to lowercase\n",
        "    words = [word.lower() for word in word_tokenize(text) if word.isalnum()]\n",
        "\n",
        "    # Remove stopwords\n",
        "    stop_words = set(stopwords.words('french'))\n",
        "    filtered_words = [word for word in words if word not in stop_words]\n",
        "\n",
        "    # Stem the words (optional)\n",
        "    stemmer = PorterStemmer()\n",
        "    stemmed_words = [stemmer.stem(word) for word in filtered_words]\n",
        "\n",
        "    return sentences, filtered_words\n"
      ]
    },
    {
      "cell_type": "code",
      "execution_count": null,
      "metadata": {
        "id": "ti3Gzp2BWCPe"
      },
      "outputs": [],
      "source": [
        "# Read and preprocess the content of the first article\n",
        "with open('Article1.txt', 'r', encoding='utf-8') as file:\n",
        "    text1 = file.read()\n",
        "\n",
        "sentences1, words1 = preprocess_text(text1)\n",
        "\n",
        "# Read and preprocess the content of the second article\n",
        "with open('Article2.txt', 'r', encoding='utf-8') as file:\n",
        "    text2 = file.read()\n",
        "\n",
        "sentences2, words2 = preprocess_text(text2)\n",
        "\n",
        "# Read and preprocess the content of the third article\n",
        "with open('Article3.txt', 'r', encoding='utf-8') as file:\n",
        "    text3 = file.read()\n",
        "\n",
        "sentences3, words3 = preprocess_text(text3)"
      ]
    },
    {
      "cell_type": "code",
      "execution_count": null,
      "metadata": {
        "colab": {
          "base_uri": "https://localhost:8080/"
        },
        "id": "zGOmgwcrWyBw",
        "outputId": "25bc5124-3fcc-4273-8433-7a94d3b0376e"
      },
      "outputs": [
        {
          "data": {
            "text/plain": [
              "[\"Les combats initiés mardi au Haut-Karabakh par l'Azerbaïdjan, qui ont suscité l'inquiétude de la communauté internationale, ont causé la mort d'au moins 32 personnes.\",\n",
              " \"Ce qu'il faut savoir\\nLes séparatistes arméniens du Haut-Karabakh ont annoncé mercredi 20 septembre qu'ils déposeront les armes dans le cadre d'un cessez-le-feu, confirmé par les autorités azerbaïdjanaises.\",\n",
              " \"Des négociations sur la réintégration de ce territoire disputé avec l'Arménie vont se tenir jeudi dans la ville azerbaïdjanaise de Yevlakh.\",\n",
              " \"Les combats, qui ont débuté mardi au Haut-Karabakh, ont fait au moins 32 morts, dont sept civils, et plus de 200 blessés, selon l'Arménie.\",\n",
              " \"De son côté, l'Azerbaïdjan avait rapporté que deux civils avaient péri dans les zones sous son contrôle.\",\n",
              " 'Suivez notre direct.',\n",
              " \"Le Vatican et l'ONU demandent l'arrêt des combats.\",\n",
              " 'Le pape François a appelé, mercredi, à \"faire taire les armes\" et à \"trouver des solutions pacifiques\" au Haut-Karabakh.',\n",
              " 'Le secrétaire général de l\\'ONU, Antonio Guterres, a aussi demandé \"la désescalade et [le] respect plus strict du cessez-le-feu de 2020 et des principes du droit international humanitaire\".',\n",
              " 'Bakou pose ses conditions.',\n",
              " 'Le président azerbaïdjanais, Ilham Aliev, a affirmé, mercredi, \"que les mesures anti-terroristes seront interrompues si (les séparatistes arméniens) déposent les armes et sont désarmés\", selon un communiqué de la présidence publié à l\\'issue d\\'un appel téléphonique avec le secrétaire d\\'Etat américain, Antony Blinken.',\n",
              " 'Une \"agression de grande ampleur\".',\n",
              " 'L\\'Arménie a dénoncé cette offensive menée à des fins de \"nettoyage ethnique\", selon elle.',\n",
              " 'Elle a assuré ne pas avoir de troupes au Haut-Karabakh, laissant entendre que les séparatistes étaient seuls face aux soldats azerbaïdjanais.',\n",
              " 'Erevan considère que c\\'est à la Russie, garante d\\'un cessez-le-feu datant de 2020 avec des forces de la paix sur le terrain, d\\'agir pour \"stopper l\\'agression azerbaïdjanaise\".',\n",
              " 'Moscou appelle au calme.',\n",
              " 'La Russie a appelé, mercredi, à \"cesser immédiatement l\\'effusion de sang, à mettre un terme aux hostilités et à arrêter les pertes civiles\" dans la région.',\n",
              " 'Elle réclame un retour des accords négociés sous son égide ayant abouti en 2020 à un cessez-le-feu, mais pas à un accord de paix.']"
            ]
          },
          "execution_count": 24,
          "metadata": {},
          "output_type": "execute_result"
        }
      ],
      "source": [
        "sentences1"
      ]
    },
    {
      "cell_type": "code",
      "execution_count": null,
      "metadata": {
        "colab": {
          "base_uri": "https://localhost:8080/"
        },
        "id": "yBCW30pzW0_D",
        "outputId": "5df29305-3da5-4638-aca2-8b7e311653e6"
      },
      "outputs": [
        {
          "data": {
            "text/plain": [
              "['combats',\n",
              " 'initiés',\n",
              " 'mardi',\n",
              " 'suscité',\n",
              " 'communauté',\n",
              " 'internationale',\n",
              " 'causé',\n",
              " 'mort',\n",
              " 'moins',\n",
              " '32',\n",
              " 'personnes',\n",
              " 'faut',\n",
              " 'savoir',\n",
              " 'séparatistes',\n",
              " 'arméniens',\n",
              " 'annoncé',\n",
              " 'mercredi',\n",
              " '20',\n",
              " 'septembre',\n",
              " 'déposeront',\n",
              " 'armes',\n",
              " 'cadre',\n",
              " 'confirmé',\n",
              " 'autorités',\n",
              " 'azerbaïdjanaises',\n",
              " 'négociations',\n",
              " 'réintégration',\n",
              " 'territoire',\n",
              " 'disputé',\n",
              " 'vont',\n",
              " 'tenir',\n",
              " 'jeudi',\n",
              " 'ville',\n",
              " 'azerbaïdjanaise',\n",
              " 'yevlakh',\n",
              " 'combats',\n",
              " 'débuté',\n",
              " 'mardi',\n",
              " 'fait',\n",
              " 'moins',\n",
              " '32',\n",
              " 'morts',\n",
              " 'dont',\n",
              " 'sept',\n",
              " 'civils',\n",
              " 'plus',\n",
              " '200',\n",
              " 'blessés',\n",
              " 'selon',\n",
              " 'côté',\n",
              " 'rapporté',\n",
              " 'deux',\n",
              " 'civils',\n",
              " 'péri',\n",
              " 'zones',\n",
              " 'sous',\n",
              " 'contrôle',\n",
              " 'suivez',\n",
              " 'direct',\n",
              " 'vatican',\n",
              " 'demandent',\n",
              " 'combats',\n",
              " 'pape',\n",
              " 'françois',\n",
              " 'a',\n",
              " 'appelé',\n",
              " 'mercredi',\n",
              " 'faire',\n",
              " 'taire',\n",
              " 'armes',\n",
              " 'trouver',\n",
              " 'solutions',\n",
              " 'pacifiques',\n",
              " 'secrétaire',\n",
              " 'général',\n",
              " 'antonio',\n",
              " 'guterres',\n",
              " 'a',\n",
              " 'aussi',\n",
              " 'demandé',\n",
              " 'désescalade',\n",
              " 'respect',\n",
              " 'plus',\n",
              " 'strict',\n",
              " '2020',\n",
              " 'principes',\n",
              " 'droit',\n",
              " 'international',\n",
              " 'humanitaire',\n",
              " 'bakou',\n",
              " 'pose',\n",
              " 'conditions',\n",
              " 'président',\n",
              " 'azerbaïdjanais',\n",
              " 'ilham',\n",
              " 'aliev',\n",
              " 'a',\n",
              " 'affirmé',\n",
              " 'mercredi',\n",
              " 'mesures',\n",
              " 'interrompues',\n",
              " 'si',\n",
              " 'séparatistes',\n",
              " 'arméniens',\n",
              " 'déposent',\n",
              " 'armes',\n",
              " 'désarmés',\n",
              " 'selon',\n",
              " 'communiqué',\n",
              " 'présidence',\n",
              " 'publié',\n",
              " 'appel',\n",
              " 'téléphonique',\n",
              " 'secrétaire',\n",
              " 'américain',\n",
              " 'antony',\n",
              " 'blinken',\n",
              " 'agression',\n",
              " 'grande',\n",
              " 'ampleur',\n",
              " 'a',\n",
              " 'dénoncé',\n",
              " 'cette',\n",
              " 'offensive',\n",
              " 'menée',\n",
              " 'fins',\n",
              " 'nettoyage',\n",
              " 'ethnique',\n",
              " 'selon',\n",
              " 'a',\n",
              " 'assuré',\n",
              " 'avoir',\n",
              " 'troupes',\n",
              " 'laissant',\n",
              " 'entendre',\n",
              " 'séparatistes',\n",
              " 'seuls',\n",
              " 'face',\n",
              " 'soldats',\n",
              " 'azerbaïdjanais',\n",
              " 'erevan',\n",
              " 'considère',\n",
              " 'russie',\n",
              " 'garante',\n",
              " 'datant',\n",
              " '2020',\n",
              " 'forces',\n",
              " 'paix',\n",
              " 'terrain',\n",
              " 'stopper',\n",
              " 'azerbaïdjanaise',\n",
              " 'moscou',\n",
              " 'appelle',\n",
              " 'calme',\n",
              " 'russie',\n",
              " 'a',\n",
              " 'appelé',\n",
              " 'mercredi',\n",
              " 'cesser',\n",
              " 'immédiatement',\n",
              " 'sang',\n",
              " 'mettre',\n",
              " 'terme',\n",
              " 'hostilités',\n",
              " 'arrêter',\n",
              " 'pertes',\n",
              " 'civiles',\n",
              " 'région',\n",
              " 'réclame',\n",
              " 'retour',\n",
              " 'accords',\n",
              " 'négociés',\n",
              " 'sous',\n",
              " 'égide',\n",
              " 'abouti',\n",
              " '2020',\n",
              " 'accord',\n",
              " 'paix']"
            ]
          },
          "execution_count": 25,
          "metadata": {},
          "output_type": "execute_result"
        }
      ],
      "source": [
        "words1"
      ]
    },
    {
      "attachments": {},
      "cell_type": "markdown",
      "metadata": {
        "id": "8Ul_aw25Y-3M"
      },
      "source": [
        "##### Check Zipf's Law"
      ]
    },
    {
      "attachments": {},
      "cell_type": "markdown",
      "metadata": {
        "id": "A6AZYmqdcO_D"
      },
      "source": [
        "*Explanation of the law*"
      ]
    },
    {
      "attachments": {},
      "cell_type": "markdown",
      "metadata": {
        "id": "-IeoJUOqcRfZ"
      },
      "source": [
        "Imagine you have a large collection of words from a book, a website, or any text. Zipf's Law says that:\n",
        "\n",
        "There are a few words that appear a lot, like \"the,\" \"and,\" and \"in.\" These are the most common words in the text.\n",
        "\n",
        "Then, there are many words that appear less often, like \"apple,\" \"cat,\" or \"mountain.\" These are less common.\n",
        "\n",
        "The pattern is like this: The most common word appears much more often than the second most common word, and the second most common word appears much more often than the third most common word, and so on.\n",
        "\n",
        "Basically, it's a way to describe how words are used in languages. Some words are used all the time, while most words are used only occasionally.\n",
        "\n",
        "Zipf's Law helps us understand that languages have patterns, and it's not just random words. It's like saying there's a \"pecking order\" for words, with a few at the top and many at the bottom in terms of how often they are used.\n",
        "\n",
        "In simpler terms, Zipf's Law is a way to describe how words are distributed in texts, showing that some words are very common, and most words are not used as often"
      ]
    },
    {
      "cell_type": "code",
      "execution_count": null,
      "metadata": {
        "colab": {
          "base_uri": "https://localhost:8080/",
          "height": 564
        },
        "id": "ktl7XLoYai6C",
        "outputId": "80234d76-d165-478f-c397-172295a7faf7"
      },
      "outputs": [
        {
          "data": {
            "image/png": "[encoded data removed]",
            "text/plain": [
              "<Figure size 1000x600 with 1 Axes>"
            ]
          },
          "metadata": {},
          "output_type": "display_data"
        }
      ],
      "source": [
        "import matplotlib.pyplot as plt\n",
        "from collections import Counter\n",
        "import numpy as np\n",
        "from scipy.stats import linregress\n",
        "\n",
        "# Function to calculate the linear regression\n",
        "def calculate_linear_regression(word_counts):\n",
        "    # Sort the word frequencies\n",
        "    sorted_word_counts = sorted(word_counts.items(), key=lambda x: x[1], reverse=True)\n",
        "\n",
        "    # Extract the counts and ranks\n",
        "    counts = [count for word, count in sorted_word_counts]\n",
        "    ranks = range(1, len(counts) + 1)\n",
        "\n",
        "    # Perform linear regression\n",
        "    slope, intercept, r_value, p_value, std_err = linregress(ranks, counts)\n",
        "\n",
        "    return slope, intercept\n",
        "\n",
        "\n",
        "# Calculate the linear regression for each article\n",
        "slope1, intercept1 = calculate_linear_regression(Counter(words1))\n",
        "slope2, intercept2 = calculate_linear_regression(Counter(words2))\n",
        "slope3, intercept3 = calculate_linear_regression(Counter(words3))\n",
        "\n",
        "# Create a new figure\n",
        "plt.figure(figsize=(10, 6))\n",
        "\n",
        "# Plot Zipf's Law for each article and add a legend\n",
        "plt.plot(range(1, len(words1) + 1), [intercept1 + slope1 * x for x in range(1, len(words1) + 1)], label='Article 1')\n",
        "plt.plot(range(1, len(words2) + 1), [intercept2 + slope2 * x for x in range(1, len(words2) + 1)], label='Article 2')\n",
        "plt.plot(range(1, len(words3) + 1), [intercept3 + slope3 * x for x in range(1, len(words3) + 1)], label='Article 3')\n",
        "\n",
        "# Add labels and legend\n",
        "plt.xlabel('Rank')\n",
        "plt.ylabel('Frequency')\n",
        "plt.title('Zipf\\'s Law Comparison (Linear Regression)')\n",
        "plt.grid(True)\n",
        "plt.legend()\n",
        "\n",
        "# Show the plot\n",
        "plt.show()\n"
      ]
    },
    {
      "attachments": {},
      "cell_type": "markdown",
      "metadata": {
        "id": "_yT_EgwQiMln"
      },
      "source": [
        "##### Model definition"
      ]
    },
    {
      "cell_type": "code",
      "execution_count": null,
      "metadata": {
        "colab": {
          "base_uri": "https://localhost:8080/"
        },
        "id": "yGgbRHraiOQ4",
        "outputId": "e499192a-4da6-4c0e-9067-52945b855978"
      },
      "outputs": [
        {
          "name": "stderr",
          "output_type": "stream",
          "text": [
            "WARNING:gensim.models.word2vec:Each 'sentences' item should be a list of words (usually unicode strings). First item here is instead plain <class 'str'>.\n",
            "WARNING:gensim.models.word2vec:Each 'sentences' item should be a list of words (usually unicode strings). First item here is instead plain <class 'str'>.\n",
            "WARNING:gensim.models.word2vec:Each 'sentences' item should be a list of words (usually unicode strings). First item here is instead plain <class 'str'>.\n"
          ]
        }
      ],
      "source": [
        "from gensim.models import Word2Vec\n",
        "\n",
        "\n",
        "# Train Word2Vec model for Article 1\n",
        "model1 = Word2Vec(sentences1, vector_size=300, window=5, min_count=1, sg=0)\n",
        "\n",
        "# Train Word2Vec model for Article 2\n",
        "model2 = Word2Vec(sentences2, vector_size=300, window=5, min_count=1, sg=0)\n",
        "\n",
        "# Train Word2Vec model for Article 3\n",
        "model3 = Word2Vec(sentences3, vector_size=300, window=5, min_count=1, sg=0)\n",
        "\n",
        "\n",
        "model1.save(\"model1.w2v\")\n",
        "model2.save(\"model2.w2v\")\n",
        "model3.save(\"model3.w2v\")\n"
      ]
    },
    {
      "attachments": {},
      "cell_type": "markdown",
      "metadata": {
        "id": "MBG_KvXKVo1_"
      },
      "source": [
        "##### Calculate Semantic Similarity"
      ]
    },
    {
      "cell_type": "code",
      "execution_count": null,
      "metadata": {
        "colab": {
          "base_uri": "https://localhost:8080/"
        },
        "id": "l0PDHxRDh6Ll",
        "outputId": "66a826f3-9de5-43bf-e34e-0675f369a7c9"
      },
      "outputs": [
        {
          "name": "stdout",
          "output_type": "stream",
          "text": [
            "Cosine similarity between Article 1 and Article 2: [[0.         0.         0.         0.         0.         0.\n",
            "  0.         0.         0.         0.         0.         0.\n",
            "  0.         0.         0.         0.         0.        ]\n",
            " [0.         0.         0.         0.         0.         0.\n",
            "  0.         0.         0.         0.         0.         0.\n",
            "  0.         0.         0.         0.         0.        ]\n",
            " [0.         0.         0.         0.         0.         0.\n",
            "  0.         0.         0.         0.         0.         0.\n",
            "  0.         0.         0.         0.         0.        ]\n",
            " [0.         0.         0.         0.         0.         0.\n",
            "  0.         0.         0.         0.         0.         0.\n",
            "  0.         0.         0.         0.         0.        ]\n",
            " [0.         0.         0.         0.         0.         0.\n",
            "  0.         0.         0.         0.         0.         0.\n",
            "  0.         0.         0.         0.         0.        ]\n",
            " [0.         0.         0.         0.         0.         0.\n",
            "  0.         0.         0.         0.         0.         0.\n",
            "  0.         0.         0.         0.         0.        ]\n",
            " [0.         0.         0.         0.         0.         0.\n",
            "  0.         0.         0.         0.         0.         0.\n",
            "  0.         0.         0.         0.         0.        ]\n",
            " [0.944036   0.94016004 0.9436174  0.9446467  0.94412035 0.9436393\n",
            "  0.94433576 0.         0.9438884  0.94391286 0.9440381  0.\n",
            "  0.94395804 0.         0.9429658  0.9442026  0.9434726 ]\n",
            " [0.9433049  0.9393437  0.94286996 0.9439434  0.9433512  0.9427889\n",
            "  0.94355536 0.         0.9430279  0.9430923  0.9432519  0.\n",
            "  0.9431932  0.         0.9421379  0.9433951  0.9426238 ]\n",
            " [0.         0.         0.         0.         0.         0.\n",
            "  0.         0.         0.         0.         0.         0.\n",
            "  0.         0.         0.         0.         0.        ]\n",
            " [0.9438697  0.9399641  0.9434452  0.9444896  0.9439411  0.9434324\n",
            "  0.944153   0.         0.94367826 0.94371694 0.94385314 0.\n",
            "  0.94377995 0.         0.9427663  0.9440097  0.94326615]\n",
            " [0.         0.         0.         0.         0.         0.\n",
            "  0.         0.         0.         0.         0.         0.\n",
            "  0.         0.         0.         0.         0.        ]\n",
            " [0.9438697  0.9399642  0.9434457  0.94448996 0.9439415  0.94343245\n",
            "  0.94415283 0.         0.94367814 0.9437165  0.94385326 0.\n",
            "  0.94378036 0.         0.9427664  0.9440104  0.94326615]\n",
            " [0.943305   0.93934333 0.94287026 0.9439435  0.94335127 0.9427892\n",
            "  0.94355476 0.         0.9430278  0.9430922  0.9432522  0.\n",
            "  0.9431933  0.         0.9421377  0.9433948  0.9426238 ]\n",
            " [0.9440204  0.9402376  0.9436195  0.944602   0.94414586 0.943749\n",
            "  0.94437397 0.         0.94400907 0.94399273 0.9440805  0.\n",
            "  0.94397825 0.         0.9430536  0.9442674  0.94358075]\n",
            " [0.         0.         0.         0.         0.         0.\n",
            "  0.         0.         0.         0.         0.         0.\n",
            "  0.         0.         0.         0.         0.        ]\n",
            " [0.94409585 0.94023806 0.9436811  0.9447016  0.9441888  0.9437239\n",
            "  0.94440705 0.         0.94397515 0.94399196 0.9441095  0.\n",
            "  0.9440252  0.         0.94304645 0.94427824 0.9435567 ]\n",
            " [0.94402087 0.94023746 0.9436195  0.94460213 0.944146   0.9437489\n",
            "  0.9443736  0.         0.9440093  0.9439927  0.94408053 0.\n",
            "  0.94397837 0.         0.9430534  0.94426763 0.94358075]]\n",
            "Cosine similarity between Article 1 and Article 3: [[0.         0.         0.         0.         0.         0.\n",
            "  0.         0.         0.         0.         0.         0.\n",
            "  0.         0.         0.         0.         0.         0.\n",
            "  0.        ]\n",
            " [0.         0.         0.         0.         0.         0.\n",
            "  0.         0.         0.         0.         0.         0.\n",
            "  0.         0.         0.         0.         0.         0.\n",
            "  0.        ]\n",
            " [0.         0.         0.         0.         0.         0.\n",
            "  0.         0.         0.         0.         0.         0.\n",
            "  0.         0.         0.         0.         0.         0.\n",
            "  0.        ]\n",
            " [0.         0.         0.         0.         0.         0.\n",
            "  0.         0.         0.         0.         0.         0.\n",
            "  0.         0.         0.         0.         0.         0.\n",
            "  0.        ]\n",
            " [0.         0.         0.         0.         0.         0.\n",
            "  0.         0.         0.         0.         0.         0.\n",
            "  0.         0.         0.         0.         0.         0.\n",
            "  0.        ]\n",
            " [0.         0.         0.         0.         0.         0.\n",
            "  0.         0.         0.         0.         0.         0.\n",
            "  0.         0.         0.         0.         0.         0.\n",
            "  0.        ]\n",
            " [0.         0.         0.         0.         0.         0.\n",
            "  0.         0.         0.         0.         0.         0.\n",
            "  0.         0.         0.         0.         0.         0.\n",
            "  0.        ]\n",
            " [0.9374639  0.93970346 0.9381416  0.93837124 0.939784   0.93903023\n",
            "  0.         0.9374639  0.         0.9374278  0.9374639  0.\n",
            "  0.         0.9402419  0.         0.         0.         0.93840414\n",
            "  0.9385537 ]\n",
            " [0.9387458  0.94097    0.9394347  0.9396649  0.9410418  0.9403297\n",
            "  0.         0.9387458  0.         0.938717   0.9387458  0.\n",
            "  0.         0.94149053 0.         0.         0.         0.93969613\n",
            "  0.93985504]\n",
            " [0.         0.         0.         0.         0.         0.\n",
            "  0.         0.         0.         0.         0.         0.\n",
            "  0.         0.         0.         0.         0.         0.\n",
            "  0.        ]\n",
            " [0.93797934 0.9402139  0.9386609  0.9388908  0.9402915  0.93955153\n",
            "  0.         0.93797934 0.         0.9379456  0.93797934 0.\n",
            "  0.         0.94074565 0.         0.         0.         0.9389232\n",
            "  0.93907595]\n",
            " [0.         0.         0.         0.         0.         0.\n",
            "  0.         0.         0.         0.         0.         0.\n",
            "  0.         0.         0.         0.         0.         0.\n",
            "  0.        ]\n",
            " [0.9379792  0.9402137  0.93866074 0.9388906  0.9402913  0.93955123\n",
            "  0.         0.9379792  0.         0.9379454  0.9379792  0.\n",
            "  0.         0.94074583 0.         0.         0.         0.9389232\n",
            "  0.93907595]\n",
            " [0.93874586 0.94096977 0.93943465 0.93966484 0.9410414  0.9403293\n",
            "  0.         0.93874586 0.         0.9387169  0.93874586 0.\n",
            "  0.         0.9414905  0.         0.         0.         0.93969613\n",
            "  0.93985504]\n",
            " [0.9353379  0.9375919  0.93600357 0.9362329  0.9376823  0.93688464\n",
            "  0.         0.9353379  0.         0.93529475 0.9353379  0.\n",
            "  0.         0.93814814 0.         0.         0.         0.93626803\n",
            "  0.93640673]\n",
            " [0.         0.         0.         0.         0.         0.\n",
            "  0.         0.         0.         0.         0.         0.\n",
            "  0.         0.         0.         0.         0.         0.\n",
            "  0.        ]\n",
            " [0.9371093  0.9393525  0.93778545 0.9380148  0.9394347  0.93867224\n",
            "  0.         0.9371093  0.         0.93707234 0.9371093  0.\n",
            "  0.         0.9398939  0.         0.         0.         0.9380485\n",
            "  0.9381957 ]\n",
            " [0.935338   0.93759215 0.9360035  0.9362332  0.9376822  0.93688446\n",
            "  0.         0.935338   0.         0.93529457 0.935338   0.\n",
            "  0.         0.93814784 0.         0.         0.         0.93626803\n",
            "  0.93640673]]\n"
          ]
        }
      ],
      "source": [
        "import numpy as np\n",
        "from gensim.models import Word2Vec\n",
        "from sklearn.metrics.pairwise import cosine_similarity\n",
        "\n",
        "\n",
        "# Calculate the average vector for each sentence\n",
        "def sentence_vector(sentence, model, num_features):\n",
        "    words = sentence.split()\n",
        "    feature_vector = np.zeros((num_features,), dtype=\"float32\")\n",
        "    num_words = 0\n",
        "    for word in words:\n",
        "        if word in model.wv.key_to_index:\n",
        "            num_words += 1\n",
        "            feature_vector = np.add(feature_vector, model.wv[word])\n",
        "    if num_words > 0:\n",
        "        feature_vector = np.divide(feature_vector, num_words)\n",
        "    return feature_vector\n",
        "\n",
        "# Calculate sentence vectors for each sentence in the articles\n",
        "num_features = 300\n",
        "sent_vectors1 = [sentence_vector(sentence, model1, num_features) for sentence in sentences1]\n",
        "sent_vectors2 = [sentence_vector(sentence, model2, num_features) for sentence in sentences2]\n",
        "sent_vectors3 = [sentence_vector(sentence, model3, num_features) for sentence in sentences3]\n",
        "\n",
        "# Calculate cosine similarity between sentences\n",
        "similarities1_2 = cosine_similarity(sent_vectors1, sent_vectors2)\n",
        "similarities1_3 = cosine_similarity(sent_vectors1, sent_vectors3)\n",
        "\n",
        "print(\"Cosine similarity between Article 1 and Article 2:\", similarities1_2)\n",
        "print(\"Cosine similarity between Article 1 and Article 3:\", similarities1_3)\n"
      ]
    },
    {
      "attachments": {},
      "cell_type": "markdown",
      "metadata": {
        "id": "qq8mTiGnkRmI"
      },
      "source": [
        "The cell at row 7 and column 7 represents the similarity between a sentence in Article 1 (let's call it Sentence A1) and itself. This value is 1, which makes sense because any sentence is perfectly similar to itself.\n",
        "\n",
        "The cell at row 7 and column 8 represents the similarity between Sentence A1 from Article 1 and a sentence (let's call it Sentence A2) from Article 2. This cell has a relatively high value, indicating that Sentence A1 and Sentence A2 are semantically similar. In other words, they convey similar meaning or context.\n",
        "\n",
        "This observation suggests that Sentence A1 in Article 1 and Sentence A2 in Article 2 share common themes, topics, or information. They might be discussing the same subject matter or providing related information.\n",
        "\n",
        "Overall, the cosine similarity score of this cell indicates a strong semantic connection between Sentence A1 and Sentence A2, supporting the idea that they are related in terms of content or context. This analysis can be extended to other cells in the matrix to identify other pairs of sentences with similar or dissimilar meanings across your articles"
      ]
    },
    {
      "attachments": {},
      "cell_type": "markdown",
      "metadata": {
        "id": "WSY3MqpGkevp"
      },
      "source": [
        "##### Find Nearest Sentences"
      ]
    },
    {
      "cell_type": "code",
      "execution_count": null,
      "metadata": {
        "colab": {
          "base_uri": "https://localhost:8080/"
        },
        "id": "AEV2xg1IkT5l",
        "outputId": "88d4368a-543e-48e3-9fd9-3b4996544dd0"
      },
      "outputs": [
        {
          "name": "stdout",
          "output_type": "stream",
          "text": [
            "Nearest Sentence 1 (Article 1): La Russie a appelé, mercredi, à \"cesser immédiatement l'effusion de sang, à mettre un terme aux hostilités et à arrêter les pertes civiles\" dans la région.\n",
            "Nearest Sentence 2 (Article 2): La Russie, dont un contingent de la paix est déployé dans le Haut-Karabakh depuis 2020, a joué un rôle crucial de médiateur dans la signature de ce cessez-le-feu.\n"
          ]
        }
      ],
      "source": [
        "import numpy as np\n",
        "\n",
        "# Find the two nearest sentences in Articles 1 and 2\n",
        "indices1_2 = np.unravel_index(np.argmax(similarities1_2), similarities1_2.shape)\n",
        "nearest_sentence1 = sentences1[indices1_2[0]]\n",
        "nearest_sentence2 = sentences2[indices1_2[1]]\n",
        "\n",
        "print(\"Nearest Sentence 1 (Article 1):\", nearest_sentence1)\n",
        "print(\"Nearest Sentence 2 (Article 2):\", nearest_sentence2)\n"
      ]
    },
    {
      "attachments": {},
      "cell_type": "markdown",
      "metadata": {
        "id": "ECjpYfQGkoVj"
      },
      "source": [
        "##### Highlight the differences and similarities"
      ]
    },
    {
      "cell_type": "code",
      "execution_count": null,
      "metadata": {
        "colab": {
          "base_uri": "https://localhost:8080/"
        },
        "id": "-eUS43ymkpjd",
        "outputId": "e3722606-5c24-43c0-b70d-b79da66d0ce1"
      },
      "outputs": [
        {
          "name": "stdout",
          "output_type": "stream",
          "text": [
            "Euclidean Distance between Article 3 and Article 1: 0.34025726\n",
            "Euclidean Distance between Article 3 and Article 2: 0.5338877\n",
            "Euclidean Distance between Article 3 and Article 2: 0.74960464\n"
          ]
        }
      ],
      "source": [
        "# Calculate sentence vectors for each article\n",
        "num_features = 300\n",
        "\n",
        "average_vector_article1 = np.mean(sent_vectors1, axis=0)\n",
        "average_vector_article2 = np.mean(sent_vectors2, axis=0)\n",
        "average_vector_article3 = np.mean(sent_vectors3, axis=0)\n",
        "\n",
        "# Now you can calculate the Euclidean distances\n",
        "distance_3_to_1 = euclidean_distances([average_vector_article3], [average_vector_article1])[0][0]\n",
        "distance_3_to_2 = euclidean_distances([average_vector_article3], [average_vector_article2])[0][0]\n",
        "distance_1_to_2 = euclidean_distances([average_vector_article1], [average_vector_article2])[0][0]\n",
        "\n",
        "print(\"Euclidean Distance between Article 3 and Article 1:\", distance_3_to_1)\n",
        "print(\"Euclidean Distance between Article 3 and Article 2:\", distance_3_to_2)\n",
        "print(\"Euclidean Distance between Article 3 and Article 2:\", distance_1_to_2)"
      ]
    }
  ],
  "metadata": {
    "colab": {
      "provenance": []
    },
    "kernelspec": {
      "display_name": "Python 3",
      "name": "python3"
    },
    "language_info": {
      "name": "python"
    }
  },
  "nbformat": 4,
  "nbformat_minor": 0
}
